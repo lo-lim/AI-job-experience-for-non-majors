{
  "nbformat": 4,
  "nbformat_minor": 0,
  "metadata": {
    "colab": {
      "provenance": [],
      "collapsed_sections": []
    },
    "kernelspec": {
      "name": "python3",
      "display_name": "Python 3"
    },
    "language_info": {
      "name": "python"
    }
  },
  "cells": [
    {
      "cell_type": "code",
      "execution_count": null,
      "metadata": {
        "id": "v0uzh_W9M3Ny"
      },
      "outputs": [],
      "source": [
        "import re"
      ]
    },
    {
      "cell_type": "markdown",
      "source": [
        "# (긍정형) 전방탐색이 유용한 경우\n",
        "* http://www.google.com/\n",
        "* https://mail.google.com/\n",
        "* ftp://ftp.google.com/\n",
        "\n",
        "\n",
        "* 위와 같이 다양한 형식의 웹사이트 목록에서, \":\" 앞의 정보(http, https, ftp)를 검색하고 싶다. 그런데, \":\"는 제외하고 검색하고 싶다. \n",
        "\n",
        "### 방법 1: 그냥 기존에 배운 re.findall만 쓴다!\n"
      ],
      "metadata": {
        "id": "ZevnHWvvNL6v"
      }
    },
    {
      "cell_type": "code",
      "source": [
        "text = '''http://www.google.com/\n",
        "https://mail.google.com/\n",
        "ftp://ftp.google.com/\n",
        "'''\n",
        "result = re.findall(\".+:\",text)\n",
        "print(result)"
      ],
      "metadata": {
        "colab": {
          "base_uri": "https://localhost:8080/"
        },
        "id": "XxUvG0RnBvh8",
        "outputId": "0019cdc8-369b-4d34-fb12-2c062c37bc6a"
      },
      "execution_count": null,
      "outputs": [
        {
          "output_type": "stream",
          "name": "stdout",
          "text": [
            "['http:', 'https:', 'ftp:']\n"
          ]
        }
      ]
    },
    {
      "cell_type": "markdown",
      "source": [
        "--> <font color=blue>문제점: 원하지 않았던 \":\"를 제외하려면 추가적인 방법이 필요하다.</font>\n",
        "(불가능한 것은 아니나, 더 긴 코드가 필요하다.)\n",
        "### 방법2: 긍정형 전방탐색 (?=) 사용 "
      ],
      "metadata": {
        "id": "IBPKCFDLCfdY"
      }
    },
    {
      "cell_type": "code",
      "source": [
        "result = re.findall(\".+(?=:)\",text)\n",
        "print(result)"
      ],
      "metadata": {
        "colab": {
          "base_uri": "https://localhost:8080/"
        },
        "id": "HWbfNhVaNBr0",
        "outputId": "9d64a403-bb41-4164-f47d-a4c27c0571c6"
      },
      "execution_count": null,
      "outputs": [
        {
          "output_type": "stream",
          "name": "stdout",
          "text": [
            "['http', 'https', 'ftp']\n"
          ]
        }
      ]
    },
    {
      "cell_type": "markdown",
      "source": [
        "# (긍정형) 후방탐색이 유용한 경우\n",
        "* apple: \\$50.24\n",
        "* banana: \\$35.25\n",
        "* pizza: \\$100\n",
        "\n",
        "\n",
        "* 이번에는 \"\\$\" 뒤의 정보를 검색하고 싶다. 그런데 \"\\$\"는 제외하고 싶다.\n",
        "\n",
        "### 방법1. 그냥 기존에 배운 re.findall만 쓴다!"
      ],
      "metadata": {
        "id": "Zf76yr9yQrDP"
      }
    },
    {
      "cell_type": "code",
      "source": [
        "text = '''apple: $50.24\n",
        "banana: $35.25\n",
        "pizza: $100\n",
        "'''\n",
        "result = re.findall(\"[$].+\",text)\n",
        "print(result)"
      ],
      "metadata": {
        "id": "wi_yuq0aQwPm",
        "colab": {
          "base_uri": "https://localhost:8080/"
        },
        "outputId": "170caf6d-ad9d-4814-c4b7-49017542467a"
      },
      "execution_count": null,
      "outputs": [
        {
          "output_type": "stream",
          "name": "stdout",
          "text": [
            "['$50.24', '$35.25', '$100']\n"
          ]
        }
      ]
    },
    {
      "cell_type": "markdown",
      "source": [
        "--> 위와 마찬가지로 불가능한 것은 아니나, 추가적인 코드가 필요하다\n",
        "\n",
        "### 방법2. 긍정형 후방탐색 (?<=) 활용"
      ],
      "metadata": {
        "id": "Gw66YmUPHRj5"
      }
    },
    {
      "cell_type": "code",
      "source": [
        "result = re.findall(\"(?<=[$]).+\",text)\n",
        "print(result)"
      ],
      "metadata": {
        "colab": {
          "base_uri": "https://localhost:8080/"
        },
        "id": "7FaddyVCTmU7",
        "outputId": "34c7e4fc-6063-4564-c8ee-07c650201451"
      },
      "execution_count": null,
      "outputs": [
        {
          "output_type": "stream",
          "name": "stdout",
          "text": [
            "['50.24', '35.25', '100']\n"
          ]
        }
      ]
    },
    {
      "cell_type": "markdown",
      "source": [
        "## 응용\n",
        "<font color=blue>(좀 or 어디 or 어떤)</font> \"앞\"의 정보만 추출하기  --> \"앞\"의 정보만 추출하고 싶으니까 전방탐색 활용"
      ],
      "metadata": {
        "id": "a4xfnEkjHoP6"
      }
    },
    {
      "cell_type": "code",
      "source": [
        "text = '''이대역 근처 카페 좀 알려줘.\n",
        "이대역 맛집 좀 알려줄 수 있니.\n",
        "여의도역 주변 식당 좀 알려줘.\n",
        "여의도역 유명한 맛집 좀 알려줄 수 있니.\n",
        "신촌역 괜찮은 식당 어떤 거 있니?\n",
        "신촌역 카페 어디 있어?\n",
        "안양역 주변 식당 어떤 데가 좋아?\n",
        "안양역 근처에 카페 어떤 거 있는지 알려줄 수 있니?\n",
        "홍대역 맛집 어디 있어?\n",
        "홍대역 카페 어디가 괜찮아?\n",
        "동대문역 주변 음식점 좀 알려줘.\n",
        "동대문역 주변 카페 좀 알려주라.'''\n",
        "\n",
        "\n",
        "\n",
        "result = re.findall(\".+(?=좀|어디|어떤)\",text)\n",
        "print(result)"
      ],
      "metadata": {
        "colab": {
          "base_uri": "https://localhost:8080/"
        },
        "id": "QpU6KiGNHqTf",
        "outputId": "7d558419-a681-4ab5-a749-84c63f37db35"
      },
      "execution_count": null,
      "outputs": [
        {
          "output_type": "stream",
          "name": "stdout",
          "text": [
            "['이대역 근처 카페 ', '이대역 맛집 ', '여의도역 주변 식당 ', '여의도역 유명한 맛집 ', '신촌역 괜찮은 식당 ', '신촌역 카페 ', '안양역 주변 식당 ', '안양역 근처에 카페 ', '홍대역 맛집 ', '홍대역 카페 ', '동대문역 주변 음식점 ', '동대문역 주변 카페 ']\n"
          ]
        }
      ]
    },
    {
      "cell_type": "markdown",
      "source": [
        "<font color=blue>(카페 or 맛집 or 식당)</font> \"뒤\"의 정보만 추출하기 --> \"뒤\"의 정보만 추출하고 싶으니까 후방탐색 활용"
      ],
      "metadata": {
        "id": "gLGGTFTFIgr9"
      }
    },
    {
      "cell_type": "code",
      "source": [
        "result = re.findall(\"(?<=카페|맛집|식당).+\",text)\n",
        "print(result)"
      ],
      "metadata": {
        "colab": {
          "base_uri": "https://localhost:8080/"
        },
        "id": "6NYNWPKbHtg9",
        "outputId": "fef568e4-7dcd-4d73-b02b-f9f03babe5b4"
      },
      "execution_count": null,
      "outputs": [
        {
          "output_type": "stream",
          "name": "stdout",
          "text": [
            "[' 좀 알려줘.', ' 좀 알려줄 수 있니.', ' 좀 알려줘.', ' 좀 알려줄 수 있니.', ' 어떤 거 있니?', ' 어디 있어?', ' 어떤 데가 좋아?', ' 어떤 거 있는지 알려줄 수 있니?', ' 어디 있어?', ' 어디가 괜찮아?', ' 좀 알려주라.']\n"
          ]
        }
      ]
    },
    {
      "cell_type": "markdown",
      "source": [
        "\\<p>와 \\</p> \"사이\"의 정보만 추출하고 싶다. 근데 \"\\<p>와 \\</p>는 제외하고 싶다. "
      ],
      "metadata": {
        "id": "fqAkcVMiJbmx"
      }
    },
    {
      "cell_type": "code",
      "source": [
        "text = '''<p>이른 아침 문을 여는 빵집입니다</p>\n",
        "<h1>아침식사로 빵을 사러 가기엔 좋지만 매장안에서 드실 공간은 없어요</h1>\n",
        "<h5>이 빵집은 특이하게도 물 또는 커피를 무료로 텀블러에 담아갈수 있습니다</h5>\n",
        "<p>가볍게 아침을 해결하고자 하는 여행자나 현지인은 들러보면 좋을 장소입니다</p>\n",
        "<p>참고로 식빵 나오는 시간은 오전시시 입니다</pp>\n",
        "'''\n",
        "\n",
        "result = re.findall(\"(?<=<p>).+(?=</p>)\",text)\n",
        "print(result)"
      ],
      "metadata": {
        "colab": {
          "base_uri": "https://localhost:8080/"
        },
        "id": "xhQQTwKSI49q",
        "outputId": "ae70efd9-c965-4be1-dd88-7d01b81a11fd"
      },
      "execution_count": null,
      "outputs": [
        {
          "output_type": "stream",
          "name": "stdout",
          "text": [
            "['이른 아침 문을 여는 빵집입니다', '가볍게 아침을 해결하고자 하는 여행자나 현지인은 들러보면 좋을 장소입니다']\n"
          ]
        }
      ]
    },
    {
      "cell_type": "markdown",
      "source": [
        "# 부정형 전방탐색\n",
        "\n",
        "* <font color=green>부정형 전방탐색 / 후방탐색은 좀더 어렵습니다. 그리고 활용하기도 까다로워서 자주 사용되지는 않습니다. 관심 있으신 분만 참고 용도로 살펴보시면 좋을 것 같습니다 :) </font>\n",
        "\n",
        "* 태풍의 영향으로 수박의 당도는 60% 감소했고, 배의 당도는 50% 감소했다. 이로 인해 관련 업계 종사자들은 8000 만 원의 피해를 봤다. 그런데 사과의 당도는 10% 증가했다. 이 사건 때문에 농부 300명이 시위에 참석했다.\n",
        "\n",
        "--> 위 텍스트에서 \"%\" 앞의 정보는 제외. 다른 경우의 숫자들만 추출하고 싶을 때, 부정형 전방탐색을 쓸 수 있습니다.\n",
        "\n",
        "부정형 전방탐색의 문법은 <font color=blue>(?!\"제외하려는 패턴\")</font> 입니다\n"
      ],
      "metadata": {
        "id": "omMMksuGA_qv"
      }
    },
    {
      "cell_type": "code",
      "source": [
        "text = '태풍의 영향으로 수박의 당도는 60% 감소했고, 배의 당도는 50% 감소했다. 이로 인해 관련 업계 종사자들은 8000만 원의 피해를 봤다. 그런데 사과의 당도는 10% 증가했다. 이 사건 때문에 농부 300명이 시위에 참석했다.'\n",
        "\n",
        "result = re.findall(\"[0-9]+(?![%0-9])\", text)\n",
        "print(result)"
      ],
      "metadata": {
        "id": "FqsYu95zNEID",
        "colab": {
          "base_uri": "https://localhost:8080/"
        },
        "outputId": "abc69bb1-ff5c-4b4c-e30f-38531845e373"
      },
      "execution_count": null,
      "outputs": [
        {
          "output_type": "stream",
          "name": "stdout",
          "text": [
            "['8000', '300']\n"
          ]
        }
      ]
    },
    {
      "cell_type": "markdown",
      "source": [
        "--> <font color=blue>다만 주의할 점은, 아래의 result = re.findall(\"[0-9]+(?!%)\", text)처럼 부정형 전방탐색으로 \"%\"만 제외한다면, 원하는 결과가 나오지 않습니다.</font>\n",
        "* \"60\"에서 \"6\"만 보면, 숫자 \"0\" 앞의 정보이고, 이 경우 \"%\" 앞의 정보가 아니므로 제외되지 않는 것이죠. "
      ],
      "metadata": {
        "id": "rGvaDVO7JGpE"
      }
    },
    {
      "cell_type": "code",
      "source": [
        "result = re.findall(\"[0-9]+(?![%])\", text)\n",
        "print(result)"
      ],
      "metadata": {
        "colab": {
          "base_uri": "https://localhost:8080/"
        },
        "id": "B58mJib4JLVT",
        "outputId": "201abcb6-4bb1-4c09-a653-c218a79f8fdd"
      },
      "execution_count": null,
      "outputs": [
        {
          "output_type": "stream",
          "name": "stdout",
          "text": [
            "['6', '5', '8000', '1', '300']\n"
          ]
        }
      ]
    },
    {
      "cell_type": "markdown",
      "source": [
        "# 부정형 후방탐색\n",
        "* 준용이는 #computer이라는 태그를 남겼고, 태후는 #subway라는 태그를 남겼다. 그런데 상준이는 실수로 @water라는 태그를 남겨버렸다.\n",
        "\n",
        "* 위 텍스트에서 \"#\" 뒤의 정보만 추출해봅시다.\n",
        "부정형 후방탐색의 문법은 <font color=blue>(?<!\"제외하려는 패턴\")</font> 입니다\n",
        "부정형 후방탐색 (?<![@a-z])를 쓰면 되겠죠!"
      ],
      "metadata": {
        "id": "iD2UPtl6KcjE"
      }
    },
    {
      "cell_type": "code",
      "source": [
        "text='준용이는 #computer이라는 태그를 남겼고, 태후는 #subway라는 태그를 남겼다. 그런데 상준이는 실수로 @water라는 태그를 남겨버렸다.'\n",
        "\n",
        "result = re.findall(\"(?<![@a-z])[a-z]+\", text)\n",
        "print(result)\n"
      ],
      "metadata": {
        "colab": {
          "base_uri": "https://localhost:8080/"
        },
        "id": "sTctkGycCGYg",
        "outputId": "b6ba2196-e17d-40e2-ecc9-7b20c13d0f4d"
      },
      "execution_count": null,
      "outputs": [
        {
          "output_type": "stream",
          "name": "stdout",
          "text": [
            "['computer', 'subway']\n"
          ]
        }
      ]
    },
    {
      "cell_type": "markdown",
      "source": [
        "부정형 후방탐색에서도, 부정형 전방탐색과 마찬가지로 \"(?<!@)[a-z]+\"와 같이 쓰지 않도록 조심해야 합니다."
      ],
      "metadata": {
        "id": "NyWwjP0rL_69"
      }
    },
    {
      "cell_type": "code",
      "source": [
        "result = re.findall(\"(?<!@)[a-z]+\", text)\n",
        "print(result)"
      ],
      "metadata": {
        "colab": {
          "base_uri": "https://localhost:8080/"
        },
        "id": "Yk8T198PFpEF",
        "outputId": "827a676e-1a2c-43a4-d3f5-5cf6bb7e732a"
      },
      "execution_count": null,
      "outputs": [
        {
          "output_type": "stream",
          "name": "stdout",
          "text": [
            "['computer', 'subway', 'ater']\n"
          ]
        }
      ]
    }
  ]
}